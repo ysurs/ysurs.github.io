{
 "cells": [
  {
   "attachments": {},
   "cell_type": "markdown",
   "metadata": {},
   "source": [
    "---\n",
    "title: Decoding paper - Parameter-Efficient Transfer Learning for NLP\n",
    "author: Yash Surange\n",
    "date: \"2023-04-9\"\n",
    "categories: [Paper explanation]\n",
    "#image: \"./cover.png\"\n",
    "format:\n",
    "    html:\n",
    "        code-fold: false\n",
    "        number-sections: true\n",
    "---"
   ]
  },
  {
   "attachments": {},
   "cell_type": "markdown",
   "metadata": {},
   "source": [
    "> This is the start of something great. It is my first paper analysis. I have also tried to implement this paper before writing summary. The idea is to get better at understanding and implementing papers. "
   ]
  },
  {
   "attachments": {},
   "cell_type": "markdown",
   "metadata": {},
   "source": [
    "> I will be discussing about the paper : [Parameter efficient transfer learning for NLP](https://arxiv.org/pdf/1902.00751.pdf). I will be going through each section of the paper and will be writing my understanding of the same. If you find any problems, don't hesitate to contact me."
   ]
  },
  {
   "attachments": {},
   "cell_type": "markdown",
   "metadata": {},
   "source": [
    "# Lets begin 🏁"
   ]
  },
  {
   "attachments": {},
   "cell_type": "markdown",
   "metadata": {},
   "source": [
    "### Abstract"
   ]
  },
  {
   "attachments": {},
   "cell_type": "markdown",
   "metadata": {},
   "source": [
    "Authors note that fine tuning of pretrained models is an efficient way of transfer learning in NLP. Transfer learning becomes parameter inefficient when the number of downstream tasks increase as for each task, a new model has to be created. To make this parameter efficient, authors propose to use adapter modules for efficient transfer learning.\n",
    "\n",
    "For each new task, adapters add very few trainable parameters and the parameters of the pretrained model remain unchanged. To demonstrate the effectiveness of this approach, the authors transfer BERT to 26 text classification tasks and achieve within 0.4% of the performance after full fine tuning. Only 3.6% parameters were added per task."
   ]
  },
  {
   "attachments": {},
   "cell_type": "markdown",
   "metadata": {},
   "source": [
    ">#### **Points to note:**\n",
    "\n",
    "There are different methods of transfer learning in NLP. These are as follows:\n",
    "\n",
    "1. Training the entire architecture (Full fine tuning): The pretrained model is trained in entirety. All the trainable parameters are updated during backpropogation.\n",
    "\n",
    "2. Training some layers and freezing others: Freezing of the initial layers and training of the later layers. In this case, we have to experimentally determine which layers to be frozen.\n",
    "\n",
    "3. Freezing the entire architecture: We freeze all the layers of the architecture and add new layers on top of them. We train only the additional layers.\n",
    "\n"
   ]
  },
  {
   "attachments": {},
   "cell_type": "markdown",
   "metadata": {},
   "source": [
    "### Introduction\n",
    "\n",
    "In this paper, the authors have targeted the **online setting**. In this setting tasks arrive in a stream. A better way to understand this is by taking an example. The example is that of **google translate**. The process involves detection of language, translation of language. These tasks have to be performed on the go. Logically, we would want models to require **minimum number of extra parameters** to adapt to new task. We also want to make sure that information about the tasks is **not lost** when we train on new tasks."
   ]
  }
 ],
 "metadata": {
  "language_info": {
   "name": "python"
  },
  "orig_nbformat": 4
 },
 "nbformat": 4,
 "nbformat_minor": 2
}
