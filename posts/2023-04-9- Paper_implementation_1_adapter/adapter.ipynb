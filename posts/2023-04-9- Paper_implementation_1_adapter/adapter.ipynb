{
 "cells": [
  {
   "attachments": {},
   "cell_type": "markdown",
   "metadata": {},
   "source": [
    "---\n",
    "title: Decoding paper - Parameter-Efficient Transfer Learning for NLP\n",
    "author: Yash Surange\n",
    "date: \"2023-04-9\"\n",
    "categories: [Paper implementations]\n",
    "#image: \"./cover.png\"\n",
    "format:\n",
    "    html:\n",
    "        code-fold: false\n",
    "        number-sections: true\n",
    "---"
   ]
  },
  {
   "cell_type": "markdown",
   "metadata": {},
   "source": []
  }
 ],
 "metadata": {
  "language_info": {
   "name": "python"
  },
  "orig_nbformat": 4
 },
 "nbformat": 4,
 "nbformat_minor": 2
}
